{
 "cells": [
  {
   "cell_type": "code",
   "execution_count": 117,
   "metadata": {},
   "outputs": [],
   "source": [
    "from PIL import Image\n",
    "import numpy as np\n",
    "import math"
   ]
  },
  {
   "cell_type": "code",
   "execution_count": 118,
   "metadata": {},
   "outputs": [],
   "source": [
    "class camera:\n",
    "    \"\"\" An class that contains all the data for a camera \"\"\"\n",
    "    def __init__(self, horizontal_fov: int, vertical_fov: int, resolution: tuple, location: tuple, direction: tuple, view_distance: tuple):\n",
    "        self.horizontal_fov = horizontal_fov\n",
    "        self.vertical_fov = vertical_fov\n",
    "        self.resolution = resolution\n",
    "        self.location = location\n",
    "        self.direction = direction\n",
    "        self.view_distance = view_distance"
   ]
  },
  {
   "cell_type": "code",
   "execution_count": 119,
   "metadata": {},
   "outputs": [],
   "source": [
    "class mesh3D:\n",
    "    \"\"\" An class that contains all the data for a mesh \"\"\"\n",
    "    def __init__(self, verticies: list, faces: list, center: tuple):\n",
    "        self.verticies = verticies\n",
    "        self.faces = faces\n",
    "        self.center = center"
   ]
  },
  {
   "cell_type": "code",
   "execution_count": 120,
   "metadata": {},
   "outputs": [],
   "source": [
    "def save_image(pixels: list, image_name: str):\n",
    "    \"\"\"takes in a numpy array of tuples of rgb values and converts it into a image then it saves the image as a file and displays the image\"\"\"\n",
    "    pixels = list(zip(*pixels))[::-1]\n",
    "    array = np.array(pixels, dtype=np.uint8)\n",
    "    new_image = Image.fromarray(array)\n",
    "    display(new_image)\n",
    "    new_image.save(image_name + '.png')"
   ]
  },
  {
   "cell_type": "code",
   "execution_count": 121,
   "metadata": {},
   "outputs": [],
   "source": [
    "def initialize_2dimage(dimensions: tuple, background_color: tuple) -> list:\n",
    "    ''' Creates a three dimensional numpy array of a certain size that dimension1 x dimension2 x 3 to represent the RGB value at each point'''\n",
    "    image = np.zeros((1000, 1000, 3), dtype=np.uint8)\n",
    "    image[:, :, 0] = background_color[0] \n",
    "    image[:, :, 1] = background_color[1] \n",
    "    image[:, :, 2] = background_color[2] \n",
    "    return image"
   ]
  },
  {
   "cell_type": "code",
   "execution_count": 122,
   "metadata": {},
   "outputs": [],
   "source": [
    "def line_2d(point_1: np.ndarray, point_2: np.ndarray):\n",
    "    \"\"\" \n",
    "    Acts as a generator which yields the the cordinates of subsequent points on a line formed between two inputed points as tuples\n",
    "\n",
    "    SPECIAL INFORMATION\n",
    "    - Lines include both end points\n",
    "    -only one pixel per line in the direction which moves the most over time \n",
    "        - EX: (0,0) to (5,20) there would only every be one box per y value\n",
    "    \"\"\"\n",
    "\n",
    "    x1, y1 = point_1\n",
    "    x2, y2 = point_2\n",
    "\n",
    "    #preparation calculations (differences and direction)\n",
    "    difference_x = abs(x2 - x1)\n",
    "    difference_y = abs(y2 - y1)\n",
    "    if x2 > x1:\n",
    "        x_sign = 1\n",
    "    else:\n",
    "        x_sign = -1\n",
    "    if y2 > y1:\n",
    "        y_sign = 1\n",
    "    else:\n",
    "        y_sign = -1\n",
    "\n",
    "    if difference_x > difference_y: # senario when the x value changes more than y in the line\n",
    "        y_error = 2*difference_y - difference_x\n",
    "        yield (int(x1),int(y1))\n",
    "        while x1 != x2:\n",
    "            x1 += x_sign\n",
    "            if y_error >= 0:\n",
    "                y1 += y_sign\n",
    "                y_error -= 2 * difference_x\n",
    "            y_error += 2 * difference_y \n",
    "            yield (int(x1),int(y1))\n",
    "\n",
    "    else: # senarion when y changes more than x or both change the exact same amount\n",
    "        x_error = 2*difference_x - difference_y\n",
    "        yield (int(x1),int(y1))\n",
    "        while y1 != y2:\n",
    "            y1 += y_sign\n",
    "            if x_error >= 0:\n",
    "                x1 += x_sign\n",
    "                x_error -= 2 * difference_y\n",
    "            x_error += 2 * difference_x \n",
    "            yield (int(x1),int(y1))"
   ]
  },
  {
   "cell_type": "code",
   "execution_count": 123,
   "metadata": {},
   "outputs": [],
   "source": [
    "def global_cords(center: np.ndarray, model_verticies: np.ndarray):\n",
    "    \"\"\"Will return location of a meshes verticies in global space from inputtings its center location and mesh information\"\"\"\n",
    "    transformation_matrix = np.array([[1,0,0,center[0]],\n",
    "                                      [0,1,0,center[1]],\n",
    "                                      [0,0,1,center[2]],\n",
    "                                      [0,0,0,1]])\n",
    "    return [np.dot(transformation_matrix,vertex) for vertex in model_verticies]"
   ]
  },
  {
   "cell_type": "code",
   "execution_count": 124,
   "metadata": {},
   "outputs": [],
   "source": [
    "def reorient_to_camera(cam: camera, global_verticies: np.ndarray):\n",
    "    \"\"\"reorients and rotates verticies to be aligned with the camera at (0,0) with the positive direction where the camera is looking\"\"\"\n",
    "    translation_matrix = np.array([[1,0,0,-cam.location[0]],\n",
    "                                    [0,1,0,-cam.location[1]],\n",
    "                                    [0,0,1,-cam.location[2]],\n",
    "                                    [0,0,0,1]])\n",
    "    x_rotation_matrix = np.array([[1,0,0,0],\n",
    "                                  [0,math.cos(math.radians(-cam.direction[0])),-math.sin(math.radians(-cam.direction[0])),0],\n",
    "                                  [0,math.sin(math.radians(-cam.direction[0])),math.cos(math.radians(-cam.direction[0])),0],\n",
    "                                  [0,0,0,1]])\n",
    "    y_rotation_matrix = np.array([[math.cos(math.radians(-cam.direction[1])),0,math.sin(math.radians(-cam.direction[1])),0],\n",
    "                                  [0,1,0,0],\n",
    "                                  [-math.sin(math.radians(-cam.direction[1])),0,math.cos(math.radians(-cam.direction[1])),0],\n",
    "                                  [0,0,0,1]])\n",
    "    z_rotation_matrix = np.array([[math.cos(math.radians(-cam.direction[2])),-math.sin(math.radians(-cam.direction[2])),0,0],\n",
    "                                  [math.sin(math.radians(-cam.direction[2])),math.cos(math.radians(-cam.direction[2])),0,0],\n",
    "                                  [0,0,1,0],\n",
    "                                  [0,0,0,1]])\n",
    "    return [np.dot(np.dot(np.dot(np.dot(point,translation_matrix),x_rotation_matrix),y_rotation_matrix),z_rotation_matrix) for point in global_verticies] "
   ]
  },
  {
   "cell_type": "code",
   "execution_count": 125,
   "metadata": {},
   "outputs": [],
   "source": [
    "############ POTENTIALLY REMOVE THIS IF CLIPPING IN THE RASTERIZATION FUNCTION WORKS WELL ENOUGH############\n",
    "def clipping(cam: camera, camera_space_verticies: np.ndarray, faces: np.ndarray):\n",
    "    ''' takes in verticies location in respect to the camera and runs through each face to determine if it is in the fov of the camera. If none of the face is in the camera it will get deleted'''\n",
    "    remaining_faces = []\n",
    "    for face in faces:\n",
    "        for point_idx in face:\n",
    "            point = camera_space_verticies[point_idx]\n",
    "            if cam.horizontal_fov >= abs(math.degrees(math.tan(point[0]/point[2]))) and cam.vertical_fov >= abs(math.degrees(math.tan(point[1]/point[2]))) and cam.view_distance[1] >= point[2] >= cam.view_distance[0]:\n",
    "                remaining_faces.append(face)\n",
    "                break\n",
    "    return np.asarray(remaining_faces)"
   ]
  },
  {
   "cell_type": "code",
   "execution_count": 126,
   "metadata": {},
   "outputs": [],
   "source": [
    "def perspective_projection(cam: camera, oriented_to_camera_vertices: np.ndarray):\n",
    "\n",
    "    projection_matrix = np.array([\n",
    "        [cam.view_distance[0] / math.tan(math.radians(cam.horizontal_fov / 2)), 0, 0, 0],\n",
    "        [0, cam.view_distance[0] / math.tan(math.radians(cam.vertical_fov / 2)), 0, 0],\n",
    "        [0, 0, cam.view_distance[1] - cam.view_distance[0], -cam.view_distance[0] * cam.view_distance[0]],\n",
    "        [0, 0, 1, 0]])\n",
    "\n",
    "    points_in_2d = []\n",
    "    for vertex in oriented_to_camera_vertices:\n",
    "        homogeneous_point = np.dot(vertex, projection_matrix)\n",
    "        w_reciprocal = 1.0 / homogeneous_point[3]\n",
    "\n",
    "        # Avoid creating unnecessary NumPy array, use a temporary variable instead\n",
    "        projected_point = [homogeneous_point[0] * w_reciprocal, homogeneous_point[1] * w_reciprocal, homogeneous_point[3], 1]\n",
    "        points_in_2d.append(projected_point)\n",
    "\n",
    "    return np.asarray(points_in_2d)\n"
   ]
  },
  {
   "cell_type": "code",
   "execution_count": 127,
   "metadata": {},
   "outputs": [],
   "source": [
    "def back_culling(verticies_2d: np.ndarray, faces: np.ndarray):\n",
    "    ''' takes in faces and verticies and returns a list of faces excluding any faces that would be looking away from the camera and occluded by other faces in front of it'''\n",
    "    culled_faces = []\n",
    "    for face in faces:\n",
    "        ax, ay, az, _ = verticies_2d[face[0]]\n",
    "        bx, by, bz, _  = verticies_2d[face[1]]\n",
    "        cx, cy, cz, _  = verticies_2d[face[2]]\n",
    "        #relies on any mesh textextures to have their faces to have vectors cross product face out of the mesh\n",
    "        vector1 = np.array([bx-ax, by-ay, bz-az]) \n",
    "        vector2 = np.array([bx-cx, by-cy, bz-cz])\n",
    "        angle = np.cross(vector1, vector2)\n",
    "        if np.dot(angle, verticies_2d[face[1], :2]) < 0:\n",
    "            culled_faces.append(face)\n",
    "    return np.asarray(culled_faces)"
   ]
  },
  {
   "cell_type": "code",
   "execution_count": 128,
   "metadata": {},
   "outputs": [],
   "source": [
    "def screen_space(cam: camera, verticies: np.ndarray):\n",
    "    ''' Takes in verticies after the perspective projection and adjusts them to the resolution of the screen '''\n",
    "    return np.array([[round((vertex[0]+1)*cam.resolution[0]/2),round((vertex[1]+1)*cam.resolution[1]/2),vertex[2],1] for vertex in verticies])"
   ]
  },
  {
   "cell_type": "code",
   "execution_count": 129,
   "metadata": {},
   "outputs": [],
   "source": [
    "def mesh_to_screen_space (cam: camera, mesh: mesh3D):\n",
    "    global_verticies = global_cords(mesh.center, mesh.verticies)\n",
    "    camera_space_verticies = reorient_to_camera(cam, global_verticies)\n",
    "    clipped_faces = clipping(cam, camera_space_verticies, mesh.faces)\n",
    "    verticies_2d = perspective_projection(cam, camera_space_verticies)\n",
    "    culled_faces = back_culling(verticies_2d, clipped_faces)\n",
    "    final_verticies = screen_space(cam, verticies_2d)\n",
    "    return final_verticies, culled_faces\n",
    "    "
   ]
  },
  {
   "cell_type": "code",
   "execution_count": null,
   "metadata": {},
   "outputs": [],
   "source": []
  },
  {
   "cell_type": "markdown",
   "metadata": {},
   "source": [
    "Experimental code below"
   ]
  },
  {
   "cell_type": "code",
   "execution_count": 130,
   "metadata": {},
   "outputs": [],
   "source": [
    "import random"
   ]
  },
  {
   "cell_type": "code",
   "execution_count": 131,
   "metadata": {},
   "outputs": [],
   "source": [
    "def rasterization(cam: camera, canvas: list, height_map: list, screen_verticies: list, faces: list, border_color: tuple, fill_color: tuple):\n",
    "    for face in faces:\n",
    "        ax, ay, az, _ = screen_verticies[face[0]]\n",
    "        bx, by, bz, _  = screen_verticies[face[1]]\n",
    "        cx, cy, cz, _  = screen_verticies[face[2]]\n",
    "        vector1 = np.array([bx-ax, by-ay, bz-az])\n",
    "        vector2 = np.array([bx-cx, by-cy, bz-cz])\n",
    "        bearing = np.cross(vector1, vector2)\n",
    "\n",
    "\n",
    "        if bearing[2] == 0:\n",
    "            continue # face is completely vertial when looking at it and does not need to be rendered\n",
    "        else:\n",
    "            if bearing[0] == 0:\n",
    "                x_slope = 0\n",
    "            else:\n",
    "                x_slope = (-1)/(bearing[2]/bearing[0])\n",
    "            if bearing[1] == 0:\n",
    "                y_slope = 0\n",
    "            else:\n",
    "                y_slope = (-1)/(bearing[2]/bearing[1])\n",
    "\n",
    "\n",
    "        # adding infrastructure to change depth information\n",
    "\n",
    "\n",
    "\n",
    "\n",
    "        # end experimental code\n",
    "\n",
    "\n",
    "        z_intercept = screen_verticies[face[0]][2] - screen_verticies[face[0]][0]*x_slope - screen_verticies[face[0]][1]*y_slope\n",
    "        overlap_counter = 0\n",
    "        shape = np.zeros([cam.resolution[0], cam.resolution[1]]) \n",
    "        for idx, point_idx in enumerate(face):\n",
    "            for x,y in line_2d([round(screen_verticies[point_idx][0]),round(screen_verticies[point_idx][1])],[round(screen_verticies[face[idx-1]][0]),round(screen_verticies[face[idx-1]][1])]):\n",
    "                if 0 <= x <= cam.resolution[0]-1 and 0 <= y <= cam.resolution[1]-1:\n",
    "                    if shape[x][y] == 1:\n",
    "                        overlap_counter += 1\n",
    "                    else:\n",
    "                        shape[x][y] = 1 \n",
    "                    z = z_intercept + x*x_slope + y*y_slope\n",
    "                    if height_map[x][y] <= z <= cam.view_distance[0]:\n",
    "                        canvas[x][y] = border_color\n",
    "                        height_map[x][y] = z\n",
    "        if overlap_counter < sum(sum(shape))/4:  #Also cuts out any faces that are completely off screen\n",
    "            mid = sum(screen_verticies[point_idx][:2] for point_idx in face)/len(face)\n",
    "            middle_point = np.append([round(mid[0]), round(mid[1])], z_intercept+round(mid[0])*x_slope+(mid[1])*y_slope)\n",
    "            if middle_point[0] > cam.resolution[0]-1 or middle_point[0] < 0 or middle_point[1] > cam.resolution[1]-1 or middle_point[1] < 0: \n",
    "                valid_points = [screen_verticies[point_idx] for point_idx in face if 0 <= screen_verticies[point_idx][0] <= cam.resolution[0]-1 and 0 <= screen_verticies[point_idx][1] <= cam.resolution[1]-1]\n",
    "                if valid_points:\n",
    "                    inside_point = sum(valid_points)/len(valid_points)\n",
    "                    for x,y in line_2d((round(middle_point[0]),round(middle_point[1])),(round(inside_point[0]),round(inside_point[1]))):\n",
    "                        if 0 <= x <= cam.resolution[0]-1 and 0 <= y <= cam.resolution[1]-1:\n",
    "                            middle_point = np.asarray([x,y,z_intercept+x*x_slope+y*y_slope])\n",
    "                            break\n",
    "\n",
    "            stack = [middle_point]\n",
    "\n",
    "            while stack:\n",
    "                x,y,z = stack[0]\n",
    "                x,y = int(round(x)), int(round(y))\n",
    "                stack.pop(0)\n",
    "                if 0 <= x <= cam.resolution[0]-1 and 0 <= y <= cam.resolution[1]-1: \n",
    "                    if not shape[x][y]:\n",
    "                        if z >= height_map[x][y]: \n",
    "                            canvas[x][y] = fill_color\n",
    "                            height_map[x][y] = z\n",
    "                        stack.append(np.asarray([x+1,y,z_intercept+(x+1)*x_slope+y*y_slope]))\n",
    "                        stack.append(np.asarray([x-1,y,z_intercept+(x-1)*x_slope+y*y_slope]))\n",
    "                        stack.append(np.asarray([x,y+1,z_intercept+x*x_slope+(y+1)*y_slope]))\n",
    "                        stack.append(np.asarray([x,y-1,z_intercept+x*x_slope+(y-1)*y_slope]))\n",
    "                    shape[x][y] = 1 \n",
    "\n",
    "    return canvas"
   ]
  },
  {
   "cell_type": "code",
   "execution_count": 132,
   "metadata": {},
   "outputs": [],
   "source": [
    "def create_cube_mesh(side_length: int, center: tuple, rotation: tuple):\n",
    "    possible_diff = [side_length/2,-side_length/2]\n",
    "    verticies = [np.array([xa,ya,za,1]) for xa in possible_diff for ya in possible_diff for za in possible_diff]\n",
    "    x_rotation_matrix = np.array([[1,0,0,0],[0,math.cos(math.radians(rotation[0])),-math.sin(math.radians(rotation[0])),0],[0,math.sin(math.radians(rotation[0])),math.cos(math.radians(rotation[0])),0],[0,0,0,1]])\n",
    "    y_rotation_matrix = np.array([[math.cos(math.radians(rotation[1])),0,math.sin(math.radians(rotation[1])),0],[0,1,0,0],[-math.sin(math.radians(rotation[1])),0,math.cos(math.radians(rotation[1])),0],[0,0,0,1]])\n",
    "    z_rotation_matrix = np.array([[math.cos(math.radians(rotation[2])),-math.sin(math.radians(rotation[2])),0,0],[math.sin(math.radians(rotation[2])),math.cos(math.radians(rotation[2])),0,0],[0,0,1,0],[0,0,0,1]])\n",
    "    #faces = [[0,1,2],[2,1,3],[6,4,2],[2,4,0],[4,5,0],[0,5,1],[7,5,6],[6,5,4],[3,7,2],[2,7,6],[3,7,1],[1,7,5]]\n",
    "    faces = [[0,4,5,1],[0,2,3,1],[6,7,3,2],[4,6,7,5],[4,6,2,0],[7,5,1,3]]\n",
    "    return mesh3D([np.dot(np.dot(np.dot(vertex,x_rotation_matrix),y_rotation_matrix),z_rotation_matrix) for vertex in verticies],faces,center)"
   ]
  },
  {
   "cell_type": "code",
   "execution_count": 133,
   "metadata": {},
   "outputs": [],
   "source": [
    "def most_of_cube_rendering(canvas, height_map, cam, mesh, border_color, fill_color):\n",
    "    final_verticies, final_faces = mesh_to_screen_space (cam, mesh)\n",
    "    return rasterization(cam, canvas, height_map, final_verticies, final_faces, border_color, fill_color)"
   ]
  },
  {
   "cell_type": "code",
   "execution_count": 134,
   "metadata": {},
   "outputs": [],
   "source": [
    "r_rotation  = lambda: random.randint(0,360)\n",
    "#r_rotation  = lambda: 90\n",
    "r_rgb  = lambda: random.randint(0,255)\n",
    "\n",
    "r_distance  = lambda: random.randint(-500,500)\n",
    "r_distance_z  = lambda: random.randint(300,1000)\n",
    "r_size = lambda: random.randint(20,150)"
   ]
  },
  {
   "cell_type": "code",
   "execution_count": 135,
   "metadata": {},
   "outputs": [
    {
     "ename": "ValueError",
     "evalue": "shapes (3,) and (2,) not aligned: 3 (dim 0) != 2 (dim 0)",
     "output_type": "error",
     "traceback": [
      "\u001b[1;31m---------------------------------------------------------------------------\u001b[0m",
      "\u001b[1;31mValueError\u001b[0m                                Traceback (most recent call last)",
      "\u001b[1;32m<ipython-input-135-393a823466c8>\u001b[0m in \u001b[0;36m<module>\u001b[1;34m\u001b[0m\n\u001b[0;32m      4\u001b[0m \u001b[0mheight_map\u001b[0m \u001b[1;33m=\u001b[0m \u001b[0mnp\u001b[0m\u001b[1;33m.\u001b[0m\u001b[0mzeros\u001b[0m\u001b[1;33m(\u001b[0m\u001b[1;33m[\u001b[0m\u001b[1;36m1000\u001b[0m\u001b[1;33m,\u001b[0m\u001b[1;36m1000\u001b[0m\u001b[1;33m]\u001b[0m\u001b[1;33m)\u001b[0m\u001b[1;33m-\u001b[0m\u001b[1;36m1000\u001b[0m\u001b[1;33m\u001b[0m\u001b[1;33m\u001b[0m\u001b[0m\n\u001b[0;32m      5\u001b[0m \u001b[0mmesh\u001b[0m \u001b[1;33m=\u001b[0m \u001b[0mcreate_cube_mesh\u001b[0m\u001b[1;33m(\u001b[0m\u001b[1;36m200\u001b[0m\u001b[1;33m,\u001b[0m \u001b[1;33m(\u001b[0m\u001b[1;36m550\u001b[0m\u001b[1;33m,\u001b[0m\u001b[1;36m550\u001b[0m\u001b[1;33m,\u001b[0m\u001b[1;36m500\u001b[0m\u001b[1;33m)\u001b[0m\u001b[1;33m,\u001b[0m\u001b[1;33m(\u001b[0m\u001b[0mr_rotation\u001b[0m\u001b[1;33m(\u001b[0m\u001b[1;33m)\u001b[0m\u001b[1;33m,\u001b[0m\u001b[0mr_rotation\u001b[0m\u001b[1;33m(\u001b[0m\u001b[1;33m)\u001b[0m\u001b[1;33m,\u001b[0m\u001b[0mr_rotation\u001b[0m\u001b[1;33m(\u001b[0m\u001b[1;33m)\u001b[0m\u001b[1;33m)\u001b[0m\u001b[1;33m)\u001b[0m\u001b[1;33m\u001b[0m\u001b[1;33m\u001b[0m\u001b[0m\n\u001b[1;32m----> 6\u001b[1;33m \u001b[0mcanvas\u001b[0m \u001b[1;33m=\u001b[0m \u001b[0mmost_of_cube_rendering\u001b[0m\u001b[1;33m(\u001b[0m\u001b[0mcanvas\u001b[0m\u001b[1;33m,\u001b[0m \u001b[0mheight_map\u001b[0m\u001b[1;33m,\u001b[0m \u001b[0mcam1\u001b[0m\u001b[1;33m,\u001b[0m \u001b[0mmesh\u001b[0m\u001b[1;33m,\u001b[0m \u001b[1;33m(\u001b[0m\u001b[0mr_rgb\u001b[0m\u001b[1;33m(\u001b[0m\u001b[1;33m)\u001b[0m\u001b[1;33m,\u001b[0m\u001b[0mr_rgb\u001b[0m\u001b[1;33m(\u001b[0m\u001b[1;33m)\u001b[0m\u001b[1;33m,\u001b[0m\u001b[0mr_rgb\u001b[0m\u001b[1;33m(\u001b[0m\u001b[1;33m)\u001b[0m\u001b[1;33m)\u001b[0m\u001b[1;33m,\u001b[0m \u001b[1;33m(\u001b[0m\u001b[0mr_rgb\u001b[0m\u001b[1;33m(\u001b[0m\u001b[1;33m)\u001b[0m\u001b[1;33m,\u001b[0m\u001b[0mr_rgb\u001b[0m\u001b[1;33m(\u001b[0m\u001b[1;33m)\u001b[0m\u001b[1;33m,\u001b[0m\u001b[0mr_rgb\u001b[0m\u001b[1;33m(\u001b[0m\u001b[1;33m)\u001b[0m\u001b[1;33m)\u001b[0m\u001b[1;33m)\u001b[0m\u001b[1;33m\u001b[0m\u001b[1;33m\u001b[0m\u001b[0m\n\u001b[0m\u001b[0;32m      7\u001b[0m \u001b[1;33m\u001b[0m\u001b[0m\n\u001b[0;32m      8\u001b[0m \u001b[1;33m\u001b[0m\u001b[0m\n",
      "\u001b[1;32m<ipython-input-133-2f35e518773f>\u001b[0m in \u001b[0;36mmost_of_cube_rendering\u001b[1;34m(canvas, height_map, cam, mesh, border_color, fill_color)\u001b[0m\n\u001b[0;32m      1\u001b[0m \u001b[1;32mdef\u001b[0m \u001b[0mmost_of_cube_rendering\u001b[0m\u001b[1;33m(\u001b[0m\u001b[0mcanvas\u001b[0m\u001b[1;33m,\u001b[0m \u001b[0mheight_map\u001b[0m\u001b[1;33m,\u001b[0m \u001b[0mcam\u001b[0m\u001b[1;33m,\u001b[0m \u001b[0mmesh\u001b[0m\u001b[1;33m,\u001b[0m \u001b[0mborder_color\u001b[0m\u001b[1;33m,\u001b[0m \u001b[0mfill_color\u001b[0m\u001b[1;33m)\u001b[0m\u001b[1;33m:\u001b[0m\u001b[1;33m\u001b[0m\u001b[1;33m\u001b[0m\u001b[0m\n\u001b[1;32m----> 2\u001b[1;33m     \u001b[0mfinal_verticies\u001b[0m\u001b[1;33m,\u001b[0m \u001b[0mfinal_faces\u001b[0m \u001b[1;33m=\u001b[0m \u001b[0mmesh_to_screen_space\u001b[0m \u001b[1;33m(\u001b[0m\u001b[0mcam\u001b[0m\u001b[1;33m,\u001b[0m \u001b[0mmesh\u001b[0m\u001b[1;33m)\u001b[0m\u001b[1;33m\u001b[0m\u001b[1;33m\u001b[0m\u001b[0m\n\u001b[0m\u001b[0;32m      3\u001b[0m     \u001b[1;32mreturn\u001b[0m \u001b[0mrasterization\u001b[0m\u001b[1;33m(\u001b[0m\u001b[0mcam\u001b[0m\u001b[1;33m,\u001b[0m \u001b[0mcanvas\u001b[0m\u001b[1;33m,\u001b[0m \u001b[0mheight_map\u001b[0m\u001b[1;33m,\u001b[0m \u001b[0mfinal_verticies\u001b[0m\u001b[1;33m,\u001b[0m \u001b[0mfinal_faces\u001b[0m\u001b[1;33m,\u001b[0m \u001b[0mborder_color\u001b[0m\u001b[1;33m,\u001b[0m \u001b[0mfill_color\u001b[0m\u001b[1;33m)\u001b[0m\u001b[1;33m\u001b[0m\u001b[1;33m\u001b[0m\u001b[0m\n",
      "\u001b[1;32m<ipython-input-129-924dc74aa901>\u001b[0m in \u001b[0;36mmesh_to_screen_space\u001b[1;34m(cam, mesh)\u001b[0m\n\u001b[0;32m      4\u001b[0m     \u001b[0mclipped_faces\u001b[0m \u001b[1;33m=\u001b[0m \u001b[0mclipping\u001b[0m\u001b[1;33m(\u001b[0m\u001b[0mcam\u001b[0m\u001b[1;33m,\u001b[0m \u001b[0mcamera_space_verticies\u001b[0m\u001b[1;33m,\u001b[0m \u001b[0mmesh\u001b[0m\u001b[1;33m.\u001b[0m\u001b[0mfaces\u001b[0m\u001b[1;33m)\u001b[0m\u001b[1;33m\u001b[0m\u001b[1;33m\u001b[0m\u001b[0m\n\u001b[0;32m      5\u001b[0m     \u001b[0mverticies_2d\u001b[0m \u001b[1;33m=\u001b[0m \u001b[0mperspective_projection\u001b[0m\u001b[1;33m(\u001b[0m\u001b[0mcam\u001b[0m\u001b[1;33m,\u001b[0m \u001b[0mcamera_space_verticies\u001b[0m\u001b[1;33m)\u001b[0m\u001b[1;33m\u001b[0m\u001b[1;33m\u001b[0m\u001b[0m\n\u001b[1;32m----> 6\u001b[1;33m     \u001b[0mculled_faces\u001b[0m \u001b[1;33m=\u001b[0m \u001b[0mback_culling\u001b[0m\u001b[1;33m(\u001b[0m\u001b[0mverticies_2d\u001b[0m\u001b[1;33m,\u001b[0m \u001b[0mclipped_faces\u001b[0m\u001b[1;33m)\u001b[0m\u001b[1;33m\u001b[0m\u001b[1;33m\u001b[0m\u001b[0m\n\u001b[0m\u001b[0;32m      7\u001b[0m     \u001b[0mfinal_verticies\u001b[0m \u001b[1;33m=\u001b[0m \u001b[0mscreen_space\u001b[0m\u001b[1;33m(\u001b[0m\u001b[0mcam\u001b[0m\u001b[1;33m,\u001b[0m \u001b[0mverticies_2d\u001b[0m\u001b[1;33m)\u001b[0m\u001b[1;33m\u001b[0m\u001b[1;33m\u001b[0m\u001b[0m\n\u001b[0;32m      8\u001b[0m     \u001b[1;32mreturn\u001b[0m \u001b[0mfinal_verticies\u001b[0m\u001b[1;33m,\u001b[0m \u001b[0mculled_faces\u001b[0m\u001b[1;33m\u001b[0m\u001b[1;33m\u001b[0m\u001b[0m\n",
      "\u001b[1;32m<ipython-input-127-47180a9321f0>\u001b[0m in \u001b[0;36mback_culling\u001b[1;34m(verticies_2d, faces)\u001b[0m\n\u001b[0;32m     10\u001b[0m         \u001b[0mvector2\u001b[0m \u001b[1;33m=\u001b[0m \u001b[0mnp\u001b[0m\u001b[1;33m.\u001b[0m\u001b[0marray\u001b[0m\u001b[1;33m(\u001b[0m\u001b[1;33m[\u001b[0m\u001b[0mbx\u001b[0m\u001b[1;33m-\u001b[0m\u001b[0mcx\u001b[0m\u001b[1;33m,\u001b[0m \u001b[0mby\u001b[0m\u001b[1;33m-\u001b[0m\u001b[0mcy\u001b[0m\u001b[1;33m,\u001b[0m \u001b[0mbz\u001b[0m\u001b[1;33m-\u001b[0m\u001b[0mcz\u001b[0m\u001b[1;33m]\u001b[0m\u001b[1;33m)\u001b[0m\u001b[1;33m\u001b[0m\u001b[1;33m\u001b[0m\u001b[0m\n\u001b[0;32m     11\u001b[0m         \u001b[0mangle\u001b[0m \u001b[1;33m=\u001b[0m \u001b[0mnp\u001b[0m\u001b[1;33m.\u001b[0m\u001b[0mcross\u001b[0m\u001b[1;33m(\u001b[0m\u001b[0mvector1\u001b[0m\u001b[1;33m,\u001b[0m \u001b[0mvector2\u001b[0m\u001b[1;33m)\u001b[0m\u001b[1;33m\u001b[0m\u001b[1;33m\u001b[0m\u001b[0m\n\u001b[1;32m---> 12\u001b[1;33m         \u001b[1;32mif\u001b[0m \u001b[0mnp\u001b[0m\u001b[1;33m.\u001b[0m\u001b[0mdot\u001b[0m\u001b[1;33m(\u001b[0m\u001b[0mangle\u001b[0m\u001b[1;33m,\u001b[0m \u001b[0mverticies_2d\u001b[0m\u001b[1;33m[\u001b[0m\u001b[0mface\u001b[0m\u001b[1;33m[\u001b[0m\u001b[1;36m1\u001b[0m\u001b[1;33m]\u001b[0m\u001b[1;33m,\u001b[0m \u001b[1;33m:\u001b[0m\u001b[1;36m2\u001b[0m\u001b[1;33m]\u001b[0m\u001b[1;33m)\u001b[0m \u001b[1;33m<\u001b[0m \u001b[1;36m0\u001b[0m\u001b[1;33m:\u001b[0m\u001b[1;33m\u001b[0m\u001b[1;33m\u001b[0m\u001b[0m\n\u001b[0m\u001b[0;32m     13\u001b[0m             \u001b[0mculled_faces\u001b[0m\u001b[1;33m.\u001b[0m\u001b[0mappend\u001b[0m\u001b[1;33m(\u001b[0m\u001b[0mface\u001b[0m\u001b[1;33m)\u001b[0m\u001b[1;33m\u001b[0m\u001b[1;33m\u001b[0m\u001b[0m\n\u001b[0;32m     14\u001b[0m     \u001b[1;32mreturn\u001b[0m \u001b[0mnp\u001b[0m\u001b[1;33m.\u001b[0m\u001b[0masarray\u001b[0m\u001b[1;33m(\u001b[0m\u001b[0mculled_faces\u001b[0m\u001b[1;33m)\u001b[0m\u001b[1;33m\u001b[0m\u001b[1;33m\u001b[0m\u001b[0m\n",
      "\u001b[1;32m<__array_function__ internals>\u001b[0m in \u001b[0;36mdot\u001b[1;34m(*args, **kwargs)\u001b[0m\n",
      "\u001b[1;31mValueError\u001b[0m: shapes (3,) and (2,) not aligned: 3 (dim 0) != 2 (dim 0)"
     ]
    }
   ],
   "source": [
    "#initialize objects\n",
    "cam1 = camera(90,90,(1000,1000),(0,0,0),(0,0,0),(1,1000))\n",
    "canvas = initialize_2dimage((1000,1000),(r_rgb(),r_rgb(),r_rgb()))\n",
    "height_map = np.zeros([1000,1000])-1000\n",
    "mesh = create_cube_mesh(200, (550,550,500),(r_rotation(),r_rotation(),r_rotation()))\n",
    "canvas = most_of_cube_rendering(canvas, height_map, cam1, mesh, (r_rgb(),r_rgb(),r_rgb()), (r_rgb(),r_rgb(),r_rgb()))\n",
    "\n",
    "\n",
    "save_image(canvas, \"perfect image\")"
   ]
  },
  {
   "cell_type": "code",
   "execution_count": null,
   "metadata": {},
   "outputs": [
    {
     "data": {
      "image/png": "[encoded data removed]",
      "text/plain": [
       "<PIL.Image.Image image mode=RGB size=1000x1000 at 0x2B080695BC8>"
      ]
     },
     "metadata": {},
     "output_type": "display_data"
    }
   ],
   "source": [
    "#initialize objects\n",
    "cam1 = camera(90,90,(1000,1000),(0,0,0),(0,0,0),(1,1000))\n",
    "canvas = initialize_2dimage((1000,1000),(r_rgb(),r_rgb(),r_rgb()))\n",
    "height_map = np.zeros([1000,1000])-1000\n",
    "mesh = create_cube_mesh(100, (-600,0,758),(r_rotation(),r_rotation(),r_rotation()))\n",
    "\n",
    "for _ in range(50):\n",
    "    canvas = most_of_cube_rendering(canvas, height_map, cam1, create_cube_mesh(r_size(), (r_distance(),r_distance(),r_distance_z()),(r_rotation(),r_rotation(),r_rotation())), (r_rgb(),r_rgb(),r_rgb()), (r_rgb(),r_rgb(),r_rgb()))\n",
    "\n",
    "\n",
    "save_image(canvas, \"perfect image\")"
   ]
  },
  {
   "cell_type": "markdown",
   "metadata": {},
   "source": [
    "Note to self use Cython to make the program run faster when I am done"
   ]
  },
  {
   "cell_type": "markdown",
   "metadata": {},
   "source": [
    "Places to speed up\n",
    " - clipping\n",
    " - perspective projection \n",
    " - back culling\n",
    " - making the screen space function not do any of the rounding\n",
    " - everything in rasterdization"
   ]
  }
 ],
 "metadata": {
  "kernelspec": {
   "display_name": "Python 3.7 (tensorflow)",
   "language": "python",
   "name": "tensorflow"
  },
  "language_info": {
   "codemirror_mode": {
    "name": "ipython",
    "version": 3
   },
   "file_extension": ".py",
   "mimetype": "text/x-python",
   "name": "python",
   "nbconvert_exporter": "python",
   "pygments_lexer": "ipython3",
   "version": "3.7.7"
  },
  "orig_nbformat": 4
 },
 "nbformat": 4,
 "nbformat_minor": 2
}
