{
 "cells": [
  {
   "cell_type": "code",
   "execution_count": 1,
   "metadata": {},
   "outputs": [],
   "source": [
    "from PIL import Image\n",
    "import numpy as np"
   ]
  },
  {
   "cell_type": "code",
   "execution_count": 2,
   "metadata": {},
   "outputs": [],
   "source": [
    "def initialize_2dimage(dimensions: tuple, background_color: tuple) -> list:\n",
    "    ''' Creates a two dimensional numpy array of a certain size that is populated with tuples of the rgb values of the background_color inputted '''\n",
    "    return [[background_color for _ in range(dimensions[1])] for _ in range(dimensions[0])]"
   ]
  },
  {
   "cell_type": "code",
   "execution_count": 7,
   "metadata": {},
   "outputs": [],
   "source": [
    "def line_2d(point_1: tuple, point_2: tuple):\n",
    "    \"\"\" \n",
    "    Acts as a generator which yields the the cordinates of subsequent points on a line formed between two inputed points as tuples\n",
    "\n",
    "    SPECIAL INFORMATION\n",
    "    - Lines include both end points\n",
    "    -only one pixel per line in the direction which moves the most over time \n",
    "        - EX: (0,0) to (5,20) there would only every be one box per y value\n",
    "    \"\"\"\n",
    "\n",
    "    x1, y1 = point_1\n",
    "    x2, y2 = point_2\n",
    "\n",
    "    #preparation calculations (differences and direction)\n",
    "    difference_x = abs(x2 - x1)\n",
    "    difference_y = abs(y2 - y1)\n",
    "    if x2 > x1:\n",
    "        x_sign = 1\n",
    "    else:\n",
    "        x_sign = -1\n",
    "    if y2 > y1:\n",
    "        y_sign = 1\n",
    "    else:\n",
    "        y_sign = -1\n",
    "\n",
    "    if difference_x > difference_y: # senario when the x value changes more than y in the line\n",
    "        y_error = 2*difference_y - difference_x\n",
    "        yield (int(x1),int(y1))\n",
    "        while x1 != x2:\n",
    "            x1 += x_sign\n",
    "            if y_error >= 0:\n",
    "                y1 += y_sign\n",
    "                y_error -= 2 * difference_x\n",
    "            y_error += 2 * difference_y \n",
    "            yield (int(x1),int(y1))\n",
    "\n",
    "    else: # senarion when y changes more than x or both change the exact same amount\n",
    "        x_error = 2*difference_x - difference_y\n",
    "        yield (int(x1),int(y1))\n",
    "        while y1 != y2:\n",
    "            y1 += y_sign\n",
    "            if x_error >= 0:\n",
    "                x1 += x_sign\n",
    "                x_error -= 2 * difference_y\n",
    "            x_error += 2 * difference_x \n",
    "            yield (int(x1),int(y1))"
   ]
  },
  {
   "cell_type": "code",
   "execution_count": 4,
   "metadata": {},
   "outputs": [],
   "source": [
    "def save_image(pixels: list, image_name: str):\n",
    "    \"\"\"takes in a numpy array of tuples of rgb values and converts it into a image then it saves the image as a file and displays the image\"\"\"\n",
    "    pixels = list(zip(*pixels))[::-1]\n",
    "    array = np.array(pixels, dtype=np.uint8)\n",
    "    new_image = Image.fromarray(array)\n",
    "    display(new_image)\n",
    "    new_image.save(image_name + '.png')"
   ]
  },
  {
   "cell_type": "code",
   "execution_count": 5,
   "metadata": {},
   "outputs": [],
   "source": [
    "class camera:\n",
    "    \"\"\" An class that contains all the data for a camera \"\"\"\n",
    "    def __init__(self, fov: int, vertical_fov: int, resolution: tuple, location: tuple, direction: tuple, view_distance: tuple):\n",
    "        self.fov = fov\n",
    "        self.vertical_fov = vertical_fov\n",
    "        self.resolution = resolution\n",
    "        self.location = location\n",
    "        self.direction = direction\n",
    "        self.view_distance = view_distance"
   ]
  },
  {
   "cell_type": "code",
   "execution_count": 6,
   "metadata": {},
   "outputs": [],
   "source": [
    "class mesh3D:\n",
    "    \"\"\" An class that contains all the data for a mesh \"\"\"\n",
    "    def __init__(self, verticies: list, faces: list, center: tuple):\n",
    "        self.verticies = verticies\n",
    "        self.faces = faces\n",
    "        self.center = center"
   ]
  },
  {
   "cell_type": "code",
   "execution_count": null,
   "metadata": {},
   "outputs": [],
   "source": []
  }
 ],
 "metadata": {
  "kernelspec": {
   "display_name": "Python 3.7 (tensorflow)",
   "language": "python",
   "name": "tensorflow"
  },
  "language_info": {
   "codemirror_mode": {
    "name": "ipython",
    "version": 3
   },
   "file_extension": ".py",
   "mimetype": "text/x-python",
   "name": "python",
   "nbconvert_exporter": "python",
   "pygments_lexer": "ipython3",
   "version": "3.7.7"
  },
  "orig_nbformat": 4
 },
 "nbformat": 4,
 "nbformat_minor": 2
}
