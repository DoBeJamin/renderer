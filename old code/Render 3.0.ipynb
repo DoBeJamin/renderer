{
 "cells": [
  {
   "cell_type": "code",
   "execution_count": 73,
   "metadata": {},
   "outputs": [],
   "source": [
    "from PIL import Image\n",
    "import numpy as np\n",
    "import math\n",
    "import typing\n",
    "import random"
   ]
  },
  {
   "cell_type": "code",
   "execution_count": 74,
   "metadata": {},
   "outputs": [],
   "source": [
    "def initialize_2dimage(dimensions: tuple, background_color: tuple) -> list:\n",
    "    return [[background_color for _ in range(dimensions[1])] for _ in range(dimensions[0])]"
   ]
  },
  {
   "cell_type": "code",
   "execution_count": 75,
   "metadata": {},
   "outputs": [],
   "source": [
    "def line_2d(point_1: tuple, point_2: tuple):\n",
    "    x1, y1 = point_1\n",
    "    x2, y2 = point_2\n",
    "    assert not (x1%1 and x2%1 and y1%1 and y2%1), f\"input points must whole numbers not decimals: input : {x1},{x2},{y1},{y2} \"\n",
    "    difference_x = abs(x2 - x1)\n",
    "    difference_y = abs(y2 - y1)\n",
    "    if x2 > x1:\n",
    "        x_sign = 1\n",
    "    else:\n",
    "        x_sign = -1\n",
    "    if y2 > y1:\n",
    "        y_sign = 1\n",
    "    else:\n",
    "        y_sign = -1\n",
    "    if max(difference_x,difference_y) == difference_x:\n",
    "        y_error = 2*difference_y - difference_x\n",
    "        yield (int(x1),int(y1))\n",
    "        while x1 != x2:\n",
    "            x1 += x_sign\n",
    "            if y_error >= 0:\n",
    "                y1 += y_sign\n",
    "                y_error -= 2 * difference_x\n",
    "            y_error += 2 * difference_y \n",
    "            yield (int(x1),int(y1))\n",
    "    elif max(difference_x,difference_y) == difference_y:\n",
    "        x_error = 2*difference_x - difference_y\n",
    "        yield (int(x1),int(y1))\n",
    "        while y1 != y2:\n",
    "            y1 += y_sign\n",
    "            if x_error >= 0:\n",
    "                x1 += x_sign\n",
    "                x_error -= 2 * difference_y\n",
    "            x_error += 2 * difference_x \n",
    "            yield (int(x1),int(y1))"
   ]
  },
  {
   "cell_type": "code",
   "execution_count": 76,
   "metadata": {},
   "outputs": [],
   "source": [
    "def save_image(pixels: list, image_name: str):\n",
    "    pixels = list(zip(*pixels))[::-1]\n",
    "    array = np.array(pixels, dtype=np.uint8)\n",
    "    new_image = Image.fromarray(array)\n",
    "    display(new_image)\n",
    "    new_image.save(image_name + '.png')"
   ]
  },
  {
   "cell_type": "code",
   "execution_count": 77,
   "metadata": {},
   "outputs": [],
   "source": [
    "class camera:\n",
    "    def __init__(self, horizontal_fov: int, vertical_fov: int, resolution: tuple, location: tuple, direction: tuple, view_distance: tuple):\n",
    "        self.horizontal_fov = horizontal_fov\n",
    "        self.vertical_fov = vertical_fov\n",
    "        self.resolution = resolution\n",
    "        self.location = location\n",
    "        self.direction = direction\n",
    "        self.view_distance = view_distance"
   ]
  },
  {
   "cell_type": "code",
   "execution_count": 78,
   "metadata": {},
   "outputs": [],
   "source": [
    "class mesh3D:\n",
    "    def __init__(self, verticies: list, faces: list, center: tuple):\n",
    "        self.verticies = verticies\n",
    "        self.faces = faces\n",
    "        self.center = center"
   ]
  },
  {
   "cell_type": "code",
   "execution_count": 79,
   "metadata": {},
   "outputs": [],
   "source": [
    "def global_cords(center: np.ndarray, model_verticies: list):\n",
    "    transformation_matrix = np.array([[1,0,0,center[0]],[0,1,0,center[1]],[0,0,1,center[2]],[0,0,0,1]])\n",
    "    return [np.dot(transformation_matrix,vertex) for vertex in model_verticies]"
   ]
  },
  {
   "cell_type": "code",
   "execution_count": 80,
   "metadata": {},
   "outputs": [],
   "source": [
    "def reorient_to_camera(self, cam: camera, global_cords: list):\n",
    "    assert type(global_cords) == list\n",
    "    for cord in global_cords:\n",
    "        assert type(cord) == np.ndarray\n",
    "    transformation_matrix = np.array([[1,0,0,-cam.location[0]],[0,1,0,-cam.location[1]],[0,0,1,-cam.location[2]],[0,0,0,1]])\n",
    "    x_rotation_matrix = np.array([[1,0,0,0],[0,math.cos(math.radians(-cam.direction[0])),-math.sin(math.radians(-cam.direction[0])),0],[0,math.sin(math.radians(-cam.direction[0])),math.cos(math.radians(-cam.direction[0])),0],[0,0,0,1]])\n",
    "    y_rotation_matrix = np.array([[math.cos(math.radians(-cam.direction[1])),0,math.sin(math.radians(-cam.direction[1])),0],[0,1,0,0],[-math.sin(math.radians(-cam.direction[1])),0,math.cos(math.radians(-cam.direction[1])),0],[0,0,0,1]])\n",
    "    z_rotation_matrix = np.array([[math.cos(math.radians(-cam.direction[2])),-math.sin(math.radians(-cam.direction[2])),0,0],[math.sin(math.radians(-cam.direction[2])),math.cos(math.radians(-cam.direction[2])),0,0],[0,0,1,0],[0,0,0,1]])\n",
    "    return [np.dot(np.dot(np.dot(np.dot(point,transformation_matrix),x_rotation_matrix),y_rotation_matrix),z_rotation_matrix) for point in global_cords]"
   ]
  },
  {
   "cell_type": "code",
   "execution_count": 81,
   "metadata": {},
   "outputs": [],
   "source": [
    "#remove clipping for new clipping\n",
    "def clipping(cam: camera, oriented_to_camera_verticies: list, faces: list):\n",
    "    clipped = []\n",
    "    for face in faces:\n",
    "        for point_idx in face:\n",
    "            point = oriented_to_camera_verticies[point_idx]\n",
    "            if cam.horizontal_fov >= abs(math.degrees(math.tan(point[0]/point[2]))) and cam.vertical_fov >= abs(math.degrees(math.tan(point[1]/point[2]))) and cam.view_distance[1] >= point[2] >= cam.view_distance[0]:\n",
    "                clipped.append(face)\n",
    "                break\n",
    "    return clipped"
   ]
  },
  {
   "cell_type": "code",
   "execution_count": 82,
   "metadata": {},
   "outputs": [],
   "source": [
    "def perspective_projection(cam: camera, oriented_to_camera_verticies: list):\n",
    "    projection_matrix = np.array([[cam.view_distance[0]/math.tan(math.radians(cam.horizontal_fov/2)),0,0,0],[0,cam.view_distance[0]/math.tan(math.radians(cam.vertical_fov/2)),0,0],[0,0,cam.view_distance[1]-cam.view_distance[0],-cam.view_distance[0]*cam.view_distance[0]],[0,0,1,0]])\n",
    "    points_in_2d = []\n",
    "    for vertex in oriented_to_camera_verticies:\n",
    "        homogeneous_point = np.dot(vertex, projection_matrix)\n",
    "        if homogeneous_point[3]:\n",
    "            homogeneous_point = np.asarray([homogeneous_point[0]/homogeneous_point[3],homogeneous_point[1]/homogeneous_point[3],homogeneous_point[3],1])\n",
    "        points_in_2d.append(homogeneous_point)\n",
    "    return points_in_2d"
   ]
  },
  {
   "cell_type": "code",
   "execution_count": 83,
   "metadata": {},
   "outputs": [],
   "source": [
    "def back_culling(oriented_to_camera_verticies: list, clipped: list):\n",
    "    culled_faces = []\n",
    "    for face in clipped:\n",
    "        ax, ay, az, _ = oriented_to_camera_verticies[face[0]]\n",
    "        bx, by, bz, _  = oriented_to_camera_verticies[face[1]]\n",
    "        cx, cy, cz, _  = oriented_to_camera_verticies[face[2]]\n",
    "        vector1 = np.array([bx-ax, by-ay, bz-az])\n",
    "        vector2 = np.array([bx-cx, by-cy, bz-cz])\n",
    "        angle = np.cross(vector1, vector2)\n",
    "        if np.dot(angle, oriented_to_camera_verticies[face[1]][:2]) < 0:\n",
    "            culled_faces.append(face)\n",
    "    return culled_faces"
   ]
  },
  {
   "cell_type": "code",
   "execution_count": 84,
   "metadata": {},
   "outputs": [],
   "source": [
    "def screen_space(cam: camera, verticies: list):\n",
    "    return [np.array([round((vertex[0]+1)*cam.resolution[0]/2),round((vertex[1]+1)*cam.resolution[1]/2),vertex[2],1]) for vertex in verticies]"
   ]
  },
  {
   "cell_type": "code",
   "execution_count": 85,
   "metadata": {},
   "outputs": [],
   "source": [
    "def rasterization(cam: camera, canvas: list, height_map: list, screen_verticies: list, world_space_verticies: list, faces: list, border_color: tuple, fill_color: tuple):\n",
    "    for face in faces:\n",
    "        ax, ay, az, _ = screen_verticies[face[0]]\n",
    "        bx, by, bz, _  = screen_verticies[face[1]]\n",
    "        cx, cy, cz, _  = screen_verticies[face[2]]\n",
    "        vector1 = np.array([bx-ax, by-ay, bz-az])\n",
    "        vector2 = np.array([bx-cx, by-cy, bz-cz])\n",
    "        bearing = np.cross(vector1, vector2)\n",
    "\n",
    "\n",
    "        if bearing[2] == 0:\n",
    "            continue # face is completely vertial when looking at it and does not need to be rendered\n",
    "        else:\n",
    "            if bearing[0] == 0:\n",
    "                x_slope = 0\n",
    "            else:\n",
    "                x_slope = (-1)/(bearing[2]/bearing[0])\n",
    "            if bearing[1] == 0:\n",
    "                y_slope = 0\n",
    "            else:\n",
    "                y_slope = (-1)/(bearing[2]/bearing[1])\n",
    "\n",
    "\n",
    "        # adding infrastructure to change depth information\n",
    "\n",
    "\n",
    "\n",
    "\n",
    "        # end experimental code\n",
    "\n",
    "\n",
    "        z_intercept = screen_verticies[face[0]][2] - screen_verticies[face[0]][0]*x_slope - screen_verticies[face[0]][1]*y_slope\n",
    "        overlap_counter = 0\n",
    "        shape = np.zeros([cam.resolution[0], cam.resolution[1]]) \n",
    "        for idx, point_idx in enumerate(face):\n",
    "            for x,y in line_2d([round(screen_verticies[point_idx][0]),round(screen_verticies[point_idx][1])],[round(screen_verticies[face[idx-1]][0]),round(screen_verticies[face[idx-1]][1])]):\n",
    "                if 0 <= x <= cam.resolution[0]-1 and 0 <= y <= cam.resolution[1]-1:\n",
    "                    if shape[x][y] == 1:\n",
    "                        overlap_counter += 1\n",
    "                    else:\n",
    "                        shape[x][y] = 1 \n",
    "                    z = z_intercept + x*x_slope + y*y_slope\n",
    "                    if height_map[x][y] <= z <= cam.view_distance[0]:\n",
    "                        canvas[x][y] = border_color\n",
    "                        height_map[x][y] = z\n",
    "        if overlap_counter < sum(sum(shape))/4:  #Also cuts out any faces that are completely off screen\n",
    "            mid = sum(screen_verticies[point_idx][:2] for point_idx in face)/len(face)\n",
    "            middle_point = np.append([round(mid[0]), round(mid[1])], z_intercept+round(mid[0])*x_slope+(mid[1])*y_slope)\n",
    "            if middle_point[0] > cam.resolution[0]-1 or middle_point[0] < 0 or middle_point[1] > cam.resolution[1]-1 or middle_point[1] < 0: \n",
    "                valid_points = [screen_verticies[point_idx] for point_idx in face if 0 <= screen_verticies[point_idx][0] <= cam.resolution[0]-1 and 0 <= screen_verticies[point_idx][1] <= cam.resolution[1]-1]\n",
    "                if valid_points:\n",
    "                    inside_point = sum(valid_points)/len(valid_points)\n",
    "                    for x,y in line_2d((round(middle_point[0]),round(middle_point[1])),(round(inside_point[0]),round(inside_point[1]))):\n",
    "                        if 0 <= x <= cam.resolution[0]-1 and 0 <= y <= cam.resolution[1]-1:\n",
    "                            middle_point = np.asarray([x,y,z_intercept+x*x_slope+y*y_slope])\n",
    "                            break\n",
    "\n",
    "            stack = [middle_point]\n",
    "\n",
    "            while stack:\n",
    "                x,y,z = stack[0]\n",
    "                x,y = int(round(x)), int(round(y))\n",
    "                stack.pop(0)\n",
    "                if 0 <= x <= cam.resolution[0]-1 and 0 <= y <= cam.resolution[1]-1: \n",
    "                    if not shape[x][y]:\n",
    "                        if z >= height_map[x][y]: \n",
    "                            canvas[x][y] = fill_color\n",
    "                            height_map[x][y] = z\n",
    "                        stack.append(np.asarray([x+1,y,z_intercept+(x+1)*x_slope+y*y_slope]))\n",
    "                        stack.append(np.asarray([x-1,y,z_intercept+(x-1)*x_slope+y*y_slope]))\n",
    "                        stack.append(np.asarray([x,y+1,z_intercept+x*x_slope+(y+1)*y_slope]))\n",
    "                        stack.append(np.asarray([x,y-1,z_intercept+x*x_slope+(y-1)*y_slope]))\n",
    "                    shape[x][y] = 1 \n",
    "\n",
    "    return canvas"
   ]
  },
  {
   "cell_type": "code",
   "execution_count": 86,
   "metadata": {},
   "outputs": [],
   "source": [
    "def create_cube_mesh(side_length: int, center: tuple, rotation: tuple):\n",
    "    possible_diff = [side_length/2,-side_length/2]\n",
    "    verticies = [np.array([xa,ya,za,1]) for xa in possible_diff for ya in possible_diff for za in possible_diff]\n",
    "    x_rotation_matrix = np.array([[1,0,0,0],[0,math.cos(math.radians(rotation[0])),-math.sin(math.radians(rotation[0])),0],[0,math.sin(math.radians(rotation[0])),math.cos(math.radians(rotation[0])),0],[0,0,0,1]])\n",
    "    y_rotation_matrix = np.array([[math.cos(math.radians(rotation[1])),0,math.sin(math.radians(rotation[1])),0],[0,1,0,0],[-math.sin(math.radians(rotation[1])),0,math.cos(math.radians(rotation[1])),0],[0,0,0,1]])\n",
    "    z_rotation_matrix = np.array([[math.cos(math.radians(rotation[2])),-math.sin(math.radians(rotation[2])),0,0],[math.sin(math.radians(rotation[2])),math.cos(math.radians(rotation[2])),0,0],[0,0,1,0],[0,0,0,1]])\n",
    "    #faces = [[0,1,2],[2,1,3],[6,4,2],[2,4,0],[4,5,0],[0,5,1],[7,5,6],[6,5,4],[3,7,2],[2,7,6],[3,7,1],[1,7,5]]\n",
    "    faces = [[0,4,5,1],[0,2,3,1],[6,7,3,2],[4,6,7,5],[4,6,2,0],[7,5,1,3]]\n",
    "    return mesh3D([np.dot(np.dot(np.dot(vertex,x_rotation_matrix),y_rotation_matrix),z_rotation_matrix) for vertex in verticies],faces,center)"
   ]
  },
  {
   "cell_type": "code",
   "execution_count": 87,
   "metadata": {},
   "outputs": [],
   "source": [
    "def most_of_cube_rendering(canvas, height_map, cam, mesh, border_color, fill_color):\n",
    "    world_verticies = global_cords(mesh.center, mesh.verticies)\n",
    "    in_perspective_verticies = perspective_projection(cam, world_verticies)\n",
    "\n",
    "    verticies = screen_space(cam, in_perspective_verticies)\n",
    "    #cam, canvas, height_map, screen_vertices, world_space_vertices, faces, border_color, fill_color\n",
    "    return rasterization(cam, canvas, height_map, verticies,world_verticies,  mesh.faces, border_color, fill_color)"
   ]
  },
  {
   "cell_type": "markdown",
   "metadata": {},
   "source": [
    "Unfinalized Code Below This Point"
   ]
  },
  {
   "cell_type": "code",
   "execution_count": 88,
   "metadata": {},
   "outputs": [],
   "source": [
    "r_rotation  = lambda: random.randint(0,360)\n",
    "#r_rotation  = lambda: 90\n",
    "r_rgb  = lambda: random.randint(0,255)\n",
    "\n",
    "r_distance  = lambda: random.randint(-500,500)\n",
    "r_distance_z  = lambda: random.randint(300,1000)\n",
    "r_size = lambda: random.randint(20,150)"
   ]
  },
  {
   "cell_type": "code",
   "execution_count": 89,
   "metadata": {},
   "outputs": [
    {
     "data": {
      "image/png": "[encoded data removed]",
      "text/plain": [
       "<PIL.Image.Image image mode=RGB size=1000x1000 at 0x2913C5B6248>"
      ]
     },
     "metadata": {},
     "output_type": "display_data"
    }
   ],
   "source": [
    "#initialize objects\n",
    "cam1 = camera(90,90,(1000,1000),(0,0,0),(0,0,0),(1,1000))\n",
    "canvas = initialize_2dimage((1000,1000),(r_rgb(),r_rgb(),r_rgb()))\n",
    "height_map = np.zeros([1000,1000])-1000\n",
    "mesh = create_cube_mesh(200, (550,550,500),(r_rotation(),r_rotation(),r_rotation()))\n",
    "canvas = most_of_cube_rendering(canvas, height_map, cam1, mesh, (r_rgb(),r_rgb(),r_rgb()), (r_rgb(),r_rgb(),r_rgb()))\n",
    "\n",
    "\n",
    "save_image(canvas, \"perfect image\")"
   ]
  },
  {
   "cell_type": "code",
   "execution_count": 90,
   "metadata": {},
   "outputs": [
    {
     "data": {
      "image/png": "[encoded data removed]",
      "text/plain": [
       "<PIL.Image.Image image mode=RGB size=1000x1000 at 0x2913C48C1C8>"
      ]
     },
     "metadata": {},
     "output_type": "display_data"
    }
   ],
   "source": [
    "#initialize objects\n",
    "cam1 = camera(90,90,(1000,1000),(0,0,0),(0,0,0),(1,1000))\n",
    "canvas = initialize_2dimage((1000,1000),(r_rgb(),r_rgb(),r_rgb()))\n",
    "height_map = np.zeros([1000,1000])-1000\n",
    "mesh = create_cube_mesh(100, (-600,0,758),(r_rotation(),r_rotation(),r_rotation()))\n",
    "\n",
    "for _ in range(50):\n",
    "    canvas = most_of_cube_rendering(canvas, height_map, cam1, create_cube_mesh(r_size(), (r_distance(),r_distance(),r_distance_z()),(r_rotation(),r_rotation(),r_rotation())), (r_rgb(),r_rgb(),r_rgb()), (r_rgb(),r_rgb(),r_rgb()))\n",
    "\n",
    "\n",
    "save_image(canvas, \"perfect image\")"
   ]
  },
  {
   "attachments": {},
   "cell_type": "markdown",
   "metadata": {},
   "source": [
    "Errors to fix\n",
    "- certain edges and faces don't seem to be lining up exact in height\n",
    "- certain lines are appearing at cube corners for no reason\n",
    "- fix how it takes a really long time to render cubes on the edges\n"
   ]
  },
  {
   "cell_type": "code",
   "execution_count": 91,
   "metadata": {},
   "outputs": [],
   "source": [
    "import cv2\n",
    "import time\n",
    "\n"
   ]
  },
  {
   "cell_type": "code",
   "execution_count": 92,
   "metadata": {},
   "outputs": [
    {
     "ename": "KeyboardInterrupt",
     "evalue": "",
     "output_type": "error",
     "traceback": [
      "\u001b[1;31m---------------------------------------------------------------------------\u001b[0m",
      "\u001b[1;31mKeyboardInterrupt\u001b[0m                         Traceback (most recent call last)",
      "\u001b[1;32m<ipython-input-92-5692929838be>\u001b[0m in \u001b[0;36m<module>\u001b[1;34m\u001b[0m\n\u001b[0;32m     27\u001b[0m \u001b[1;33m\u001b[0m\u001b[0m\n\u001b[0;32m     28\u001b[0m \u001b[1;33m\u001b[0m\u001b[0m\n\u001b[1;32m---> 29\u001b[1;33m     \u001b[0mframe\u001b[0m \u001b[1;33m=\u001b[0m \u001b[0mnp\u001b[0m\u001b[1;33m.\u001b[0m\u001b[0masarray\u001b[0m\u001b[1;33m(\u001b[0m\u001b[0mcanvas\u001b[0m\u001b[1;33m)\u001b[0m\u001b[1;33m.\u001b[0m\u001b[0mastype\u001b[0m\u001b[1;33m(\u001b[0m\u001b[0mnp\u001b[0m\u001b[1;33m.\u001b[0m\u001b[0muint8\u001b[0m\u001b[1;33m)\u001b[0m\u001b[1;33m\u001b[0m\u001b[1;33m\u001b[0m\u001b[0m\n\u001b[0m\u001b[0;32m     30\u001b[0m     \u001b[0mvideo_writer\u001b[0m\u001b[1;33m.\u001b[0m\u001b[0mwrite\u001b[0m\u001b[1;33m(\u001b[0m\u001b[0mframe\u001b[0m\u001b[1;33m)\u001b[0m\u001b[1;33m\u001b[0m\u001b[1;33m\u001b[0m\u001b[0m\n\u001b[0;32m     31\u001b[0m \u001b[1;33m\u001b[0m\u001b[0m\n",
      "\u001b[1;31mKeyboardInterrupt\u001b[0m: "
     ]
    },
    {
     "ename": "",
     "evalue": "",
     "output_type": "error",
     "traceback": [
      "\u001b[1;31mThe Kernel crashed while executing code in the the current cell or a previous cell. Please review the code in the cell(s) to identify a possible cause of the failure. Click <a href='https://aka.ms/vscodeJupyterKernelCrash'>here</a> for more info. View Jupyter <a href='command:jupyter.viewOutput'>log</a> for further details."
     ]
    }
   ],
   "source": [
    "#initialize objects\n",
    "\n",
    "canvas_color = (r_rgb(),r_rgb(),r_rgb())\n",
    "cube_color = (r_rgb(),r_rgb(),r_rgb())\n",
    "cube_outline_color = (r_rgb(),r_rgb(),r_rgb())\n",
    "cube_size = 75\n",
    "cam1 = camera(90,90,(1000,1000),(0,0,0),(0,0,0),(1,1000))\n",
    "mesh = create_cube_mesh(100, (-600,0,758),(r_rotation(),r_rotation(),r_rotation()))\n",
    "rotation = (r_rotation(),r_rotation(),r_rotation())\n",
    "\n",
    "location_x = -400\n",
    "\n",
    "canvas = initialize_2dimage((1000,1000),canvas_color)\n",
    "\n",
    "frame_shape = np.asarray(canvas).shape\n",
    "video_writer = cv2.VideoWriter('output.mp4', cv2.VideoWriter_fourcc(*'mp4v'), 30, frame_shape[:2][::-1])\n",
    "\n",
    "\n",
    "for _ in range(2000):\n",
    "    canvas = initialize_2dimage((1000,1000),canvas_color)\n",
    "    height_map = np.zeros([1000,1000])-1000\n",
    "    rotation = (rotation[0]+5,rotation[1]+5,rotation[2]+5)\n",
    "    location_x += 10\n",
    "    if location_x > 450:\n",
    "        location_x = -450\n",
    "    canvas = most_of_cube_rendering(canvas, height_map, cam1, create_cube_mesh(cube_size, (location_x ,0,500),rotation), cube_color, cube_outline_color)\n",
    "\n",
    "\n",
    "    frame = np.asarray(canvas).astype(np.uint8)\n",
    "    video_writer.write(frame)\n",
    "\n",
    "    cv2.imshow('Video', frame)\n",
    "    if cv2.waitKey(1) == ord('q'):\n",
    "        break\n",
    "    \n",
    "cv2.destroyAllWindows()\n",
    "video_writer.release()\n"
   ]
  },
  {
   "cell_type": "code",
   "execution_count": null,
   "metadata": {},
   "outputs": [],
   "source": [
    "display_video(frames)"
   ]
  },
  {
   "cell_type": "code",
   "execution_count": null,
   "metadata": {},
   "outputs": [],
   "source": []
  },
  {
   "cell_type": "code",
   "execution_count": null,
   "metadata": {},
   "outputs": [],
   "source": [
    "\n",
    "#import sys\n",
    "#!{sys.executable} -m pip install opencv-python\n",
    "#!conda install --yes --prefix {sys.prefix} opencv-python"
   ]
  }
 ],
 "metadata": {
  "kernelspec": {
   "display_name": "Python 3.7 (tensorflow)",
   "language": "python",
   "name": "tensorflow"
  },
  "language_info": {
   "codemirror_mode": {
    "name": "ipython",
    "version": 3
   },
   "file_extension": ".py",
   "mimetype": "text/x-python",
   "name": "python",
   "nbconvert_exporter": "python",
   "pygments_lexer": "ipython3",
   "version": "3.7.16"
  },
  "orig_nbformat": 4
 },
 "nbformat": 4,
 "nbformat_minor": 2
}
